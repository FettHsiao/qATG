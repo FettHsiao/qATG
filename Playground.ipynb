{
 "cells": [
  {
   "cell_type": "code",
   "execution_count": 1,
   "id": "bff1c09a-4ff4-451c-8a49-2d90b027f21c",
   "metadata": {},
   "outputs": [],
   "source": [
    "%load_ext autoreload\n",
    "%autoreload 2"
   ]
  },
  {
   "cell_type": "code",
   "execution_count": 22,
   "id": "b185d604-55f2-4392-84c9-6ea4c5394c53",
   "metadata": {},
   "outputs": [],
   "source": [
    "%matplotlib ipympl\n",
    "# pip install ipympl\n",
    "\n",
    "import numpy as np\n",
    "import qiskit.circuit.library as qGate\n",
    "from qiskit.extensions import UnitaryGate\n",
    "\n",
    "from qatgFault import qatgFault\n",
    "\n",
    "class myUFault(qatgFault):\n",
    "\tdef __init__(self, params):\n",
    "\t\tsuper(myUFault, self).__init__(qGate.UGate, 0, f\"gateType: U, qubits: 0, params: {params}\")\n",
    "\t\tself.params = params\n",
    "\tdef createOriginalGate(self):\n",
    "\t\treturn qGate.UGate(*self.params)\n",
    "\tdef createFaultyGate(self, faultfreeGate):\n",
    "\t\treturn qGate.UGate(faultfreeGate.params[0] - 0.1*np.pi, faultfreeGate.params[1], faultfreeGate.params[2])\n",
    "    \n",
    "class myCNOTFault(qatgFault):\n",
    "\tdef __init__(self):\n",
    "\t\tsuper(myCNOTFault, self).__init__(qGate.CXGate, [0, 1], f\"gateType: CX, qubits: 0-1\")\n",
    "\tdef createOriginalGate(self):\n",
    "\t\treturn qGate.CXGate()\n",
    "\tdef createFaultyGate(self, faultfreeGate):\n",
    "\t\tif not isinstance(faultfreeGate, qGate.CXGate):\n",
    "\t\t\traise TypeError(\"what is this faultfreeGate\")\n",
    "\t\tmatrix = qGate.CXGate().to_matrix()\n",
    "\t\tUF = qGate.UGate(0.05*np.pi, 0.05*np.pi, 0.05*np.pi)\n",
    "\t\tmatrix = np.matmul(np.kron(np.eye(2), UF), matrix)\n",
    "\t\tmatrix = np.matmul(matrix, np.kron(UF, np.eye(2)))\n",
    "\t\treturn UnitaryGate(matrix)"
   ]
  },
  {
   "cell_type": "code",
   "execution_count": 43,
   "id": "ff9c18c6-3c1d-4073-9333-c5942e8176d4",
   "metadata": {},
   "outputs": [
    {
     "name": "stdout",
     "output_type": "stream",
     "text": [
      "Before: 0.19098300562505283\n",
      "After : 0.1909830056219179\n",
      "0\n",
      "0.37916397875131713\n",
      "Before: 0.6250015513437261\n",
      "After : 0.6909830041832268\n",
      "27\n",
      "0.7968863722865978\n",
      "Before: 1.1840257664772276\n",
      "After : 1.3090169911148883\n",
      "12\n",
      "1.3294595246509482\n",
      "Before: 1.6363005439063303\n",
      "After : 1.8090169897115334\n",
      "7\n",
      "2.262151321240759\n"
     ]
    }
   ],
   "source": [
    "from qatg import qatg\n",
    "\n",
    "generator = qatg(circuitSize = 1, basisGateSet = [qGate.UGate], circuitInitializedStates = {1: [1, 0]}, minRequiredEffectSize = 2)\n",
    "configurationList = generator.getTestConfiguration([myUFault([np.pi, np.pi, np.pi])])"
   ]
  },
  {
   "cell_type": "code",
   "execution_count": 40,
   "id": "eca536af-e06b-4f3a-9d89-74bf1b5ff86a",
   "metadata": {},
   "outputs": [
    {
     "name": "stdout",
     "output_type": "stream",
     "text": [
      "Before: 0.01196141658614312\n",
      "After : 0.012673958806583153\n",
      "999\n",
      "0.5881340747880839\n",
      "Before: 0.0990304140375136\n",
      "After : 0.11494705148035886\n",
      "999\n",
      "0.9345886568234834\n",
      "Before: 0.22351435953096677\n",
      "After : 0.2339402502297264\n",
      "999\n",
      "1.310691040179166\n",
      "Before: 0.4477532813933771\n",
      "After : 0.4706791658492479\n",
      "999\n",
      "1.6617045443032472\n",
      "Before: 0.6239579915482065\n",
      "After : 0.6519649237068619\n",
      "999\n",
      "2.137648334932252\n",
      "Before: 0.7279609081786199\n",
      "After : 0.8173166249211402\n",
      "999\n",
      "2.251342043819916\n",
      "Before: 0.9797132625752596\n",
      "After : 0.9879358077135195\n",
      "999\n",
      "2.5019521324332707\n",
      "Before: 1.1176253695316607\n",
      "After : 1.209038606575128\n",
      "999\n",
      "2.797910265183313\n",
      "Before: 1.3453813277911741\n",
      "After : 1.3622822359631959\n",
      "999\n",
      "3.0327683416472535\n"
     ]
    }
   ],
   "source": [
    "from qatg import qatg\n",
    "\n",
    "generator = qatg(circuitSize = 2, basisGateSet = [qGate.UGate], circuitInitializedStates = {2: [1, 0, 0, 0]}, minRequiredEffectSize = 3)\n",
    "configurationList = generator.getTestConfiguration([myCNOTFault()])"
   ]
  },
  {
   "cell_type": "code",
   "execution_count": 44,
   "id": "463ee9db-afff-494c-9fde-cf8c4f20863d",
   "metadata": {},
   "outputs": [
    {
     "name": "stdout",
     "output_type": "stream",
     "text": [
      "Target fault: { gateType: U, qubits: 0, params: [3.141592653589793, 3.141592653589793, 3.141592653589793] }\n",
      "Length: 8\tRepetition: 11\tCost: 88\n",
      "Chi-Value boundary: 54.02585971390985\n",
      "Effect Size: 2.262151321240759\n",
      "Overkill: 0.0\tTest Escape: 0.0\n",
      "\n"
     ]
    },
    {
     "data": {
      "application/vnd.jupyter.widget-view+json": {
       "model_id": "6f39a77bd8f3425ebbf064a8f0d20921",
       "version_major": 2,
       "version_minor": 0
      },
      "image/png": "[encoded data removed]",
      "text/html": [
       "\n",
       "            <div style=\"display: inline-block;\">\n",
       "                <div class=\"jupyter-widgets widget-label\" style=\"text-align: center;\">\n",
       "                    Figure\n",
       "                </div>\n",
       "                <img src='data:image/png;base64,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' width=1439.6194364243997/>\n",
       "            </div>\n",
       "        "
      ],
      "text/plain": [
       "Canvas(toolbar=Toolbar(toolitems=[('Home', 'Reset original view', 'home', 'home'), ('Back', 'Back to previous …"
      ]
     },
     "metadata": {},
     "output_type": "display_data"
    }
   ],
   "source": [
    "for configuration in configurationList:\n",
    "    print(configuration)\n",
    "    configuration.circuit.draw('mpl')"
   ]
  },
  {
   "cell_type": "code",
   "execution_count": null,
   "id": "29efe300-1cbb-4f69-ab0a-86c47ae8f004",
   "metadata": {},
   "outputs": [],
   "source": []
  }
 ],
 "metadata": {
  "kernelspec": {
   "display_name": "Python 3 (ipykernel)",
   "language": "python",
   "name": "python3"
  },
  "language_info": {
   "codemirror_mode": {
    "name": "ipython",
    "version": 3
   },
   "file_extension": ".py",
   "mimetype": "text/x-python",
   "name": "python",
   "nbconvert_exporter": "python",
   "pygments_lexer": "ipython3",
   "version": "3.9.5"
  }
 },
 "nbformat": 4,
 "nbformat_minor": 5
}
